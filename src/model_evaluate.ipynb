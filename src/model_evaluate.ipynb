{
 "cells": [
  {
   "cell_type": "markdown",
   "id": "b9659726-b81a-4cc3-a8c9-8be0f534c0f5",
   "metadata": {},
   "source": [
    "### Import Libraries"
   ]
  },
  {
   "cell_type": "code",
   "execution_count": 1,
   "id": "ff633d4a-cf1e-4106-bd77-1b261d4d48dd",
   "metadata": {},
   "outputs": [],
   "source": [
    "import os\n",
    "import pickle\n",
    "import datetime\n",
    "import numpy as np\n",
    "import warnings\n",
    "warnings.filterwarnings('ignore')"
   ]
  },
  {
   "cell_type": "markdown",
   "id": "62151d99-fb98-49c9-b604-0a2e1d6bc0df",
   "metadata": {},
   "source": [
    "### Load Trained Model"
   ]
  },
  {
   "cell_type": "code",
   "execution_count": 2,
   "id": "aac16e92-9e97-4934-abd2-0d14202530f9",
   "metadata": {},
   "outputs": [],
   "source": [
    "def load_artifacts():\n",
    "    '''\n",
    "    Loads the saved machine learning model and scaler from disk.\n",
    "    \n",
    "    Returns:\n",
    "        model (object): The pre-trained machine learning model.\n",
    "        scaler (object): The pre-fitted scaler loaded .\n",
    "    '''\n",
    "    # Define the path for the saved model file\n",
    "    model_path = os.path.join(\"..\",\"model\",'saved_model.pkl')\n",
    "    model = pickle.load(open(model_path,'rb'))\n",
    "\n",
    "    # Define the path for the saved scaler file\n",
    "    scaler_path = os.path.join(\"..\",\"artifacts\",'scaler.pkl')\n",
    "    scaler = pickle.load(open(scaler_path,'rb'))\n",
    "\n",
    "    return model, scaler\n",
    "\n",
    "model, scaler = load_artifacts()"
   ]
  },
  {
   "cell_type": "markdown",
   "id": "c8d1ca77-2c34-4593-92b0-ff6a8ea9260e",
   "metadata": {},
   "source": [
    "### Model Prediction"
   ]
  },
  {
   "cell_type": "code",
   "execution_count": 3,
   "id": "b069d8b6-1c91-445a-aa5b-89ce15a7e1c5",
   "metadata": {},
   "outputs": [],
   "source": [
    "def predict_price(inputs: list) -> float:\n",
    "    \"\"\"\n",
    "    Predict the car price based on user input.\n",
    "    \n",
    "    Args:\n",
    "        inputs (list): List of form values [Brand, Year, KMs Driven, Ownership, Fuel Type]\n",
    "    \n",
    "    Returns:\n",
    "        float: Predicted price of the car\n",
    "    \"\"\"\n",
    "    # Initialize feature vector\n",
    "    feature_names = model.feature_names_in_\n",
    "    input_vector = np.zeros(feature_names.shape)\n",
    "\n",
    "    # Extract form inputs\n",
    "    car_brand, year, kms_driven, owner_type, fuel_type = inputs\n",
    "\n",
    "    # Calculate car age\n",
    "    current_year = datetime.date.today().year\n",
    "    car_age = current_year - int(year)\n",
    "\n",
    "    # Scale numerical features (kms driven and age)\n",
    "    input_vector[:2] = scaler.transform(np.expand_dims([float(kms_driven), car_age], axis=0))\n",
    "\n",
    "    # One-hot encode categorical features if they exist in training features\n",
    "    feature_mapping = {\n",
    "        f'car_{car_brand}': car_brand,\n",
    "        f'ownership_{owner_type}': owner_type,\n",
    "        f'fuel_type_{fuel_type}': fuel_type\n",
    "    }\n",
    "\n",
    "    for feature_key in feature_mapping:\n",
    "        if feature_key in feature_names:\n",
    "            feature_idx = np.where(feature_names == feature_key)[0][0]\n",
    "            input_vector[feature_idx] = 1\n",
    "\n",
    "    # Predict log price and convert back using exponential\n",
    "    predicted_log_price = model.predict(input_vector[np.newaxis, ...])\n",
    "    predicted_price = np.exp(predicted_log_price)\n",
    "\n",
    "    return predicted_price[0]\n"
   ]
  },
  {
   "cell_type": "markdown",
   "id": "b579386b-5dbe-498e-af46-d4043c1faa06",
   "metadata": {},
   "source": [
    "### Prompt User Input"
   ]
  },
  {
   "cell_type": "code",
   "execution_count": 4,
   "id": "059a3150-456b-424c-b658-2e98dcb15255",
   "metadata": {},
   "outputs": [],
   "source": [
    "def take_user_inputs()-> list:\n",
    "    '''\n",
    "    This function prompts the user to enter details about the car, such as:\n",
    "    - car brand (capitalized)\n",
    "    - year of the car\n",
    "    - kilometers driven\n",
    "    - owner type (mapped from numeric input)\n",
    "    - fuel type (mapped from numeric input)\n",
    "\n",
    "    Returns:\n",
    "        list: A list containing the car brand, year, kilometers driven, owner type, and fuel type.\n",
    "    '''\n",
    "    \n",
    "    car_brand = input(\"Enter the car brand : \").capitalize()\n",
    "    year = input(\"Enter the car year : \")\n",
    "    kms_driven = input(\"Enter the number of kilometers driven : \")\n",
    "    owner_type = input(\"Enter the owner type -\\npress 1 for 'First Owner'\\npress 2 for 'Second owner'\\npress 3 for 'Third Owner'\\n: \")\n",
    "    fuel_type = input(\"Enter the fuel type -\\npress 1 for 'Petrol'\\npress 2 for 'Diesel'\\n:\")\n",
    "    print()\n",
    "    inputs = [car_brand, year, kms_driven, owner_type, fuel_type]\n",
    "    return inputs"
   ]
  },
  {
   "cell_type": "code",
   "execution_count": 5,
   "id": "a1a30347-e820-4730-9d85-b2f92ea740b4",
   "metadata": {},
   "outputs": [],
   "source": [
    "def validate_inputs(inputs:list)->bool:\n",
    "    \"\"\"\n",
    "    Validates the user inputs for car details\n",
    "\n",
    "    Args:\n",
    "        inputs (list): A list containing the car details (car_brand, year, kms_driven, owner_type, fuel_type).\n",
    "\n",
    "    Returns:\n",
    "        bool: `True` if there are errors in the inputs, `False` otherwise.\n",
    "    \"\"\"\n",
    "    \n",
    "    car_brand, year, kms_driven, owner_type, fuel_type = inputs\n",
    "    error = False\n",
    "    curr_year = datetime.date.today().year\n",
    "    \n",
    "    # Validate car brand\n",
    "    feature_names = model.feature_names_in_\n",
    "    if not any(car_brand in car_name for car_name in feature_names):\n",
    "        print(car_brand,\": car name not found\")\n",
    "        error = 1\n",
    "\n",
    "    # Validate the year input\n",
    "    if year.isdigit() and 1994 < int(year) <  curr_year:\n",
    "        year = int(year)\n",
    "    else:\n",
    "        print(f\"{year} : The year should be in between 1994 -- {curr_year}\")\n",
    "        error = 1\n",
    "\n",
    "    # Validate kilometers driven input\n",
    "    if  kms_driven.isdigit():\n",
    "        kms_driven = int(kms_driven)\n",
    "    else:\n",
    "        print(kms_driven,\": invalid kms type\")\n",
    "        error = 1\n",
    "\n",
    "    # Validate owner type input\n",
    "    if owner_type.isdigit() and int(owner_type)>0 :\n",
    "        owner_type = int(owner_type) if int(owner_type)<4 else 3\n",
    "    else:\n",
    "        print(owner_type,\": invalid format\")\n",
    "        error = 1\n",
    "\n",
    "    # Validate fuel type input\n",
    "    if fuel_type.isdigit() and int(fuel_type) in [1,2]:\n",
    "        fuel_type = int(owner_type)\n",
    "    else:\n",
    "        print(fuel_type,\": invalid format\")\n",
    "        error = 1\n",
    "\n",
    "    # Return the error status\n",
    "    return error"
   ]
  },
  {
   "cell_type": "code",
   "execution_count": 6,
   "id": "6ef2f27d-833b-4519-8ae7-e73bed2e47a8",
   "metadata": {},
   "outputs": [],
   "source": [
    "def main():\n",
    "    \"\"\"\n",
    "    Main entry point of the program that orchestrates user input, validation, \n",
    "    and price prediction.\n",
    "\n",
    "    This function:\n",
    "    1. \n",
    "    2. \n",
    "    3. If inputs are valid, it predicts the car price using a machine learning model.\n",
    "    4. If inputs are invalid, prompts the user to try again.\n",
    "    \"\"\"\n",
    "    # Takes user inputs for car details.\n",
    "    inputs = take_user_inputs()\n",
    "\n",
    "    # Validates the inputs.\n",
    "    error = validate_inputs(inputs)\n",
    "\n",
    "    # If no error, predict the car price\n",
    "    if not error :\n",
    "        price = predict_price(inputs)\n",
    "        print(f'Estimated Price : {int(price):,} Rupees')\n",
    "    else : \n",
    "        print(\"\\nPlease Try Again!!!\")"
   ]
  },
  {
   "cell_type": "code",
   "execution_count": 7,
   "id": "e9a387b3-03a2-419d-a458-0b2dccd2f94e",
   "metadata": {},
   "outputs": [
    {
     "name": "stdin",
     "output_type": "stream",
     "text": [
      "Enter the car brand :  Swift\n",
      "Enter the car year :  2016\n",
      "Enter the number of kilometers driven :  110500\n",
      "Enter the owner type -\n",
      "press 1 for 'First Owner'\n",
      "press 2 for 'Second owner'\n",
      "press 3 for 'Third Owner'\n",
      ":  2\n",
      "Enter the fuel type -\n",
      "press 1 for 'Petrol'\n",
      "press 2 for 'Diesel'\n",
      ": 1\n"
     ]
    },
    {
     "name": "stdout",
     "output_type": "stream",
     "text": [
      "\n",
      "Estimated Price : 461,776 Rupees\n"
     ]
    }
   ],
   "source": [
    "if __name__ == \"__main__\":\n",
    "    main()"
   ]
  },
  {
   "cell_type": "markdown",
   "id": "16c4cd53-b830-4756-bc1a-903124d05e1c",
   "metadata": {},
   "source": [
    "-----"
   ]
  }
 ],
 "metadata": {
  "kernelspec": {
   "display_name": "Python 3 (ipykernel)",
   "language": "python",
   "name": "python3"
  },
  "language_info": {
   "codemirror_mode": {
    "name": "ipython",
    "version": 3
   },
   "file_extension": ".py",
   "mimetype": "text/x-python",
   "name": "python",
   "nbconvert_exporter": "python",
   "pygments_lexer": "ipython3",
   "version": "3.10.12"
  }
 },
 "nbformat": 4,
 "nbformat_minor": 5
}
