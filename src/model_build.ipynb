{
 "cells": [
  {
   "cell_type": "markdown",
   "id": "710a313d-434b-4895-8bfa-d4924988e876",
   "metadata": {},
   "source": [
    "## Import Libraries"
   ]
  },
  {
   "cell_type": "code",
   "execution_count": 1,
   "id": "9cd26f34-2e02-4825-8e46-17863b6bc6e3",
   "metadata": {},
   "outputs": [],
   "source": [
    "import os\n",
    "import numpy as np\n",
    "import pandas as pd\n",
    "import pickle\n",
    "from sklearn.preprocessing import StandardScaler, MinMaxScaler\n",
    "from sklearn.model_selection import train_test_split, cross_val_score, KFold\n",
    "from sklearn.linear_model import LinearRegression\n",
    "from sklearn.metrics import r2_score, mean_squared_error"
   ]
  },
  {
   "cell_type": "markdown",
   "id": "4a70add1-13e9-41c9-bbb7-714e69d1e4ed",
   "metadata": {},
   "source": [
    "## Load Preprocessed Data"
   ]
  },
  {
   "cell_type": "code",
   "execution_count": 2,
   "id": "841f3b9b-4d97-4d52-9bd1-a8bdc27f330b",
   "metadata": {},
   "outputs": [],
   "source": [
    "df = pd.read_csv(\"processed_data.csv\")"
   ]
  },
  {
   "cell_type": "code",
   "execution_count": 3,
   "id": "3bf78662-fd0d-4bc8-8174-419fe2222489",
   "metadata": {},
   "outputs": [],
   "source": [
    "# Save brands details for further use to filter out cars in web application.\n",
    "brands = {i:list(j.car.unique())for i,j in df.groupby('brand')}\n",
    "df.drop(\"brand\",axis=1,inplace=True)   # remove brands from data"
   ]
  },
  {
   "cell_type": "markdown",
   "id": "7333558a-eb0e-44fa-a0e3-4004fb5a281f",
   "metadata": {},
   "source": [
    "### Feature Type Analysis"
   ]
  },
  {
   "cell_type": "code",
   "execution_count": 4,
   "id": "15e85a0b-5b64-4c8d-a219-f691f55ad17b",
   "metadata": {},
   "outputs": [
    {
     "name": "stdout",
     "output_type": "stream",
     "text": [
      "numerical_features = ['kms_driven', 'age']\n",
      "categorical_feature = ['car', 'ownership', 'fuel_type']\n"
     ]
    }
   ],
   "source": [
    "numerical_features = list(df.describe().columns)\n",
    "categorical_feature = list(df.describe(include='O').columns)\n",
    "numerical_features.remove('price')\n",
    "print(f\"{numerical_features = }\\n{categorical_feature = }\")"
   ]
  },
  {
   "cell_type": "markdown",
   "id": "72c5592f-1b99-4354-bb4f-9a7cd4dd12a1",
   "metadata": {},
   "source": [
    "## Feature Scaling"
   ]
  },
  {
   "cell_type": "code",
   "execution_count": 5,
   "id": "2f989169-5daa-45d0-9495-cadc4ab6af17",
   "metadata": {},
   "outputs": [
    {
     "name": "stdin",
     "output_type": "stream",
     "text": [
      "Select the Feature Scaling method :\n",
      "Standardization --- 1\n",
      "Normalization --- 2\n",
      " 1\n"
     ]
    },
    {
     "name": "stdout",
     "output_type": "stream",
     "text": [
      "Applied Standard Scaler\n"
     ]
    }
   ],
   "source": [
    "# Perform Scaling (Standardization or normalization based on user input)\n",
    "option = int(input('Select the Feature Scaling method :\\nStandardization --- 1\\nNormalization --- 2\\n'))\n",
    "if option == 2:\n",
    "    scaler = MinMaxScaler()\n",
    "    print('Applied MinMax Scaler')\n",
    "elif option == 1:\n",
    "    scaler = StandardScaler()\n",
    "    print('Applied Standard Scaler')\n",
    "\n",
    "df[numerical_features] = scaler.fit_transform(df[numerical_features])"
   ]
  },
  {
   "cell_type": "markdown",
   "id": "2c98b9dc-7a9d-4185-bd35-3f4eb081f1b3",
   "metadata": {},
   "source": [
    "### Saving the Scaler "
   ]
  },
  {
   "cell_type": "code",
   "execution_count": 6,
   "id": "5d00d200-2bbf-4e92-8323-f883e5c567f0",
   "metadata": {},
   "outputs": [],
   "source": [
    "# Ensures the directory exists; creates it if missing\n",
    "artifact_dir = os.path.join('..','artifacts')\n",
    "os.makedirs(artifact_dir, exist_ok=True)\n",
    "\n",
    "sclaler_path = os.path.join(artifact_dir,'scaler.pkl')\n",
    "pickle.dump(scaler, open(sclaler_path,'wb'))\n",
    "\n",
    "brands_path = os.path.join(artifact_dir,'brands.pkl')\n",
    "pickle.dump(brands, open(brands_path,'wb'))"
   ]
  },
  {
   "cell_type": "markdown",
   "id": "f08917f1-7e50-4ccb-aeb8-d79f45648268",
   "metadata": {},
   "source": [
    "### Categorical Features Encoding"
   ]
  },
  {
   "cell_type": "code",
   "execution_count": 7,
   "id": "6ebafec7-7952-4273-a413-da9da614b214",
   "metadata": {},
   "outputs": [
    {
     "data": {
      "text/html": [
       "<div>\n",
       "<style scoped>\n",
       "    .dataframe tbody tr th:only-of-type {\n",
       "        vertical-align: middle;\n",
       "    }\n",
       "\n",
       "    .dataframe tbody tr th {\n",
       "        vertical-align: top;\n",
       "    }\n",
       "\n",
       "    .dataframe thead th {\n",
       "        text-align: right;\n",
       "    }\n",
       "</style>\n",
       "<table border=\"1\" class=\"dataframe\">\n",
       "  <thead>\n",
       "    <tr style=\"text-align: right;\">\n",
       "      <th></th>\n",
       "      <th>kms_driven</th>\n",
       "      <th>price</th>\n",
       "      <th>age</th>\n",
       "      <th>car_800</th>\n",
       "      <th>car_Accent</th>\n",
       "      <th>car_Alto</th>\n",
       "      <th>car_Amaze</th>\n",
       "      <th>car_Ameo</th>\n",
       "      <th>car_Baleno</th>\n",
       "      <th>car_Beat</th>\n",
       "      <th>...</th>\n",
       "      <th>car_Xylo</th>\n",
       "      <th>car_Zen</th>\n",
       "      <th>car_Zest</th>\n",
       "      <th>car_i10</th>\n",
       "      <th>car_i20</th>\n",
       "      <th>ownership_First Owner</th>\n",
       "      <th>ownership_Second Owner</th>\n",
       "      <th>ownership_Third Owner</th>\n",
       "      <th>fuel_type_Diesel</th>\n",
       "      <th>fuel_type_Petrol</th>\n",
       "    </tr>\n",
       "  </thead>\n",
       "  <tbody>\n",
       "    <tr>\n",
       "      <th>0</th>\n",
       "      <td>-1.316777</td>\n",
       "      <td>1283000.0</td>\n",
       "      <td>-1.791035</td>\n",
       "      <td>0</td>\n",
       "      <td>0</td>\n",
       "      <td>0</td>\n",
       "      <td>0</td>\n",
       "      <td>0</td>\n",
       "      <td>0</td>\n",
       "      <td>0</td>\n",
       "      <td>...</td>\n",
       "      <td>0</td>\n",
       "      <td>0</td>\n",
       "      <td>0</td>\n",
       "      <td>0</td>\n",
       "      <td>0</td>\n",
       "      <td>1</td>\n",
       "      <td>0</td>\n",
       "      <td>0</td>\n",
       "      <td>0</td>\n",
       "      <td>1</td>\n",
       "    </tr>\n",
       "    <tr>\n",
       "      <th>1</th>\n",
       "      <td>-1.013419</td>\n",
       "      <td>777000.0</td>\n",
       "      <td>-1.034672</td>\n",
       "      <td>0</td>\n",
       "      <td>0</td>\n",
       "      <td>0</td>\n",
       "      <td>0</td>\n",
       "      <td>0</td>\n",
       "      <td>0</td>\n",
       "      <td>0</td>\n",
       "      <td>...</td>\n",
       "      <td>0</td>\n",
       "      <td>0</td>\n",
       "      <td>0</td>\n",
       "      <td>0</td>\n",
       "      <td>0</td>\n",
       "      <td>1</td>\n",
       "      <td>0</td>\n",
       "      <td>0</td>\n",
       "      <td>0</td>\n",
       "      <td>1</td>\n",
       "    </tr>\n",
       "    <tr>\n",
       "      <th>2</th>\n",
       "      <td>-0.049796</td>\n",
       "      <td>515000.0</td>\n",
       "      <td>-0.530430</td>\n",
       "      <td>0</td>\n",
       "      <td>0</td>\n",
       "      <td>0</td>\n",
       "      <td>0</td>\n",
       "      <td>0</td>\n",
       "      <td>0</td>\n",
       "      <td>0</td>\n",
       "      <td>...</td>\n",
       "      <td>0</td>\n",
       "      <td>0</td>\n",
       "      <td>0</td>\n",
       "      <td>0</td>\n",
       "      <td>0</td>\n",
       "      <td>1</td>\n",
       "      <td>0</td>\n",
       "      <td>0</td>\n",
       "      <td>0</td>\n",
       "      <td>1</td>\n",
       "    </tr>\n",
       "    <tr>\n",
       "      <th>3</th>\n",
       "      <td>-0.494071</td>\n",
       "      <td>766000.0</td>\n",
       "      <td>-0.782551</td>\n",
       "      <td>0</td>\n",
       "      <td>0</td>\n",
       "      <td>0</td>\n",
       "      <td>0</td>\n",
       "      <td>0</td>\n",
       "      <td>0</td>\n",
       "      <td>0</td>\n",
       "      <td>...</td>\n",
       "      <td>0</td>\n",
       "      <td>0</td>\n",
       "      <td>0</td>\n",
       "      <td>0</td>\n",
       "      <td>0</td>\n",
       "      <td>1</td>\n",
       "      <td>0</td>\n",
       "      <td>0</td>\n",
       "      <td>0</td>\n",
       "      <td>1</td>\n",
       "    </tr>\n",
       "    <tr>\n",
       "      <th>4</th>\n",
       "      <td>-0.630117</td>\n",
       "      <td>758000.0</td>\n",
       "      <td>-0.782551</td>\n",
       "      <td>0</td>\n",
       "      <td>0</td>\n",
       "      <td>0</td>\n",
       "      <td>0</td>\n",
       "      <td>0</td>\n",
       "      <td>0</td>\n",
       "      <td>0</td>\n",
       "      <td>...</td>\n",
       "      <td>0</td>\n",
       "      <td>0</td>\n",
       "      <td>0</td>\n",
       "      <td>0</td>\n",
       "      <td>0</td>\n",
       "      <td>1</td>\n",
       "      <td>0</td>\n",
       "      <td>0</td>\n",
       "      <td>0</td>\n",
       "      <td>1</td>\n",
       "    </tr>\n",
       "  </tbody>\n",
       "</table>\n",
       "<p>5 rows × 76 columns</p>\n",
       "</div>"
      ],
      "text/plain": [
       "   kms_driven      price       age  car_800  car_Accent  car_Alto  car_Amaze  \\\n",
       "0   -1.316777  1283000.0 -1.791035        0           0         0          0   \n",
       "1   -1.013419   777000.0 -1.034672        0           0         0          0   \n",
       "2   -0.049796   515000.0 -0.530430        0           0         0          0   \n",
       "3   -0.494071   766000.0 -0.782551        0           0         0          0   \n",
       "4   -0.630117   758000.0 -0.782551        0           0         0          0   \n",
       "\n",
       "   car_Ameo  car_Baleno  car_Beat  ...  car_Xylo  car_Zen  car_Zest  car_i10  \\\n",
       "0         0           0         0  ...         0        0         0        0   \n",
       "1         0           0         0  ...         0        0         0        0   \n",
       "2         0           0         0  ...         0        0         0        0   \n",
       "3         0           0         0  ...         0        0         0        0   \n",
       "4         0           0         0  ...         0        0         0        0   \n",
       "\n",
       "   car_i20  ownership_First Owner  ownership_Second Owner  \\\n",
       "0        0                      1                       0   \n",
       "1        0                      1                       0   \n",
       "2        0                      1                       0   \n",
       "3        0                      1                       0   \n",
       "4        0                      1                       0   \n",
       "\n",
       "   ownership_Third Owner  fuel_type_Diesel  fuel_type_Petrol  \n",
       "0                      0                 0                 1  \n",
       "1                      0                 0                 1  \n",
       "2                      0                 0                 1  \n",
       "3                      0                 0                 1  \n",
       "4                      0                 0                 1  \n",
       "\n",
       "[5 rows x 76 columns]"
      ]
     },
     "execution_count": 7,
     "metadata": {},
     "output_type": "execute_result"
    }
   ],
   "source": [
    "df = pd.get_dummies(df,dtype=int)\n",
    "df.head()"
   ]
  },
  {
   "cell_type": "markdown",
   "id": "1927b75a-6314-4bdb-b7b1-1a9b829ddfe0",
   "metadata": {},
   "source": [
    "## Model Training"
   ]
  },
  {
   "cell_type": "code",
   "execution_count": 8,
   "id": "a9d2589b-0c3c-450a-990d-bfb5d68c3006",
   "metadata": {},
   "outputs": [
    {
     "name": "stdout",
     "output_type": "stream",
     "text": [
      "Training Accuracy : 90.48 %\n",
      "Test Accuracy : 90.86 %\n",
      "Root Mean Squared Error : 0.21\n"
     ]
    }
   ],
   "source": [
    "# Dependent features and targets\n",
    "x = df.drop('price',axis=1)\n",
    "y = np.log(df.price)\n",
    "\n",
    "# Data Split into train-test\n",
    "x_train,x_test,y_train,y_test=train_test_split(x,y,train_size=.8)\n",
    "\n",
    "# Creating a Linear Regression model instance\n",
    "model = LinearRegression()\n",
    "\n",
    "# Fitting the model with training data\n",
    "model.fit(x_train,y_train)\n",
    "\n",
    "train_accuracy = model.score(x_train,y_train)*100   # Calculating the model's accuracy on the training data (R² Score)\n",
    "\n",
    "# Calculating the R² Score (test accuracy) on the test set\n",
    "y_predicted = model.predict(x_test)\n",
    "test_accuracy = r2_score(y_test,y_predicted)*100\n",
    "\n",
    "rmse = np.sqrt(mean_squared_error(y_test,y_predicted))\n",
    "\n",
    "# Printing the evaluation metrics\n",
    "print(f'Training Accuracy : {train_accuracy:.2f} %\\nTest Accuracy : {test_accuracy:.2f} %\\n\\\n",
    "Root Mean Squared Error : {rmse:.2f}')"
   ]
  },
  {
   "cell_type": "markdown",
   "id": "f0b75d6d-7549-424c-b96c-9909f60caecc",
   "metadata": {},
   "source": [
    "### Cross Validation"
   ]
  },
  {
   "cell_type": "code",
   "execution_count": 9,
   "id": "5b94efcd-8aef-4410-bb8e-e1b494bea9c0",
   "metadata": {},
   "outputs": [
    {
     "name": "stdout",
     "output_type": "stream",
     "text": [
      "Cross Validation Score : 89.60\n"
     ]
    }
   ],
   "source": [
    "# Performing cross-validation and collecting the scores\n",
    "cv = KFold()\n",
    "cross_validation_scores = cross_val_score(model,x,y)\n",
    "avg_cross_cal_score = np.mean(cross_validation_scores)*100\n",
    "print(f'Cross Validation Score : {avg_cross_cal_score:.2f}')"
   ]
  },
  {
   "cell_type": "markdown",
   "id": "19c56849-9a34-4543-9c58-91eb3598b71d",
   "metadata": {},
   "source": [
    "### Final Model Training"
   ]
  },
  {
   "cell_type": "code",
   "execution_count": 10,
   "id": "cdb0a579-201d-413e-9ce6-d5dcc33082c4",
   "metadata": {},
   "outputs": [
    {
     "name": "stdout",
     "output_type": "stream",
     "text": [
      "Final Model Accuracy : 90.57\n"
     ]
    }
   ],
   "source": [
    "#final_model training on whole data\n",
    "final_model = LinearRegression()\n",
    "final_model.fit(x,y)\n",
    "final_score = final_model.score(x,y)*100\n",
    "print(f\"Final Model Accuracy : {final_score:.2f}\")"
   ]
  },
  {
   "cell_type": "markdown",
   "id": "577df9d8-7e2e-41f7-8180-4f5f6f6ee904",
   "metadata": {},
   "source": [
    "## Saving Trained Model"
   ]
  },
  {
   "cell_type": "code",
   "execution_count": 11,
   "id": "fc057413-8897-4ef5-ab86-0102a803bf86",
   "metadata": {},
   "outputs": [],
   "source": [
    "# Folder path for saving the trained model\n",
    "model_dir = os.path.join(\"..\",\"model\")\n",
    "\n",
    "# Ensures the directory exists; creates it if missing\n",
    "os.makedirs(model_dir,exist_ok=True)   \n",
    "\n",
    "model_path = os.path.join(model_dir,'saved_model.pkl')\n",
    "pickle.dump(final_model, open(model_path,'wb'))"
   ]
  },
  {
   "cell_type": "markdown",
   "id": "9190060e-c1d7-4928-9f87-2d96ddf3fd40",
   "metadata": {},
   "source": [
    "-----\n"
   ]
  }
 ],
 "metadata": {
  "kernelspec": {
   "display_name": "Python 3 (ipykernel)",
   "language": "python",
   "name": "python3"
  },
  "language_info": {
   "codemirror_mode": {
    "name": "ipython",
    "version": 3
   },
   "file_extension": ".py",
   "mimetype": "text/x-python",
   "name": "python",
   "nbconvert_exporter": "python",
   "pygments_lexer": "ipython3",
   "version": "3.10.12"
  }
 },
 "nbformat": 4,
 "nbformat_minor": 5
}
